{
  "nbformat": 4,
  "nbformat_minor": 0,
  "metadata": {
    "colab": {
      "provenance": [],
      "toc_visible": true
    },
    "kernelspec": {
      "name": "python3",
      "display_name": "Python 3"
    },
    "language_info": {
      "name": "python"
    }
  },
  "cells": [
    {
      "cell_type": "markdown",
      "source": [
        "# **Rhythm Space Theory and Nearest Quarter Equivalent**\n",
        "- **Objective:** Explain the approach to the algorithmic process of the \"Every Drum Beat Ever\" App.\n",
        "---\n",
        "### **Contributor(s):**\n",
        "- Chris Burrows (Lead Programmer / Designer) \n",
        "---\n",
        "### **Preface:**\n",
        "- The following Notebook analyzes an algorithmic approach to deciphering how to implement a random assignment of `partials` within any given bar, either by USER or RANDOM parameters. \n",
        "---\n"
      ],
      "metadata": {
        "id": "AV-awfY3WiBC"
      }
    },
    {
      "cell_type": "markdown",
      "source": [
        "## 1). Setup - Musical Theory"
      ],
      "metadata": {
        "id": "Ah4BtOOjXr9M"
      }
    },
    {
      "cell_type": "code",
      "source": [
        "#@title i. Import Statements\n",
        "import math\n",
        "import random"
      ],
      "metadata": {
        "cellView": "form",
        "id": "NGvhfmHMZs3b"
      },
      "execution_count": 7,
      "outputs": []
    },
    {
      "cell_type": "markdown",
      "source": [],
      "metadata": {
        "id": "oPZbGQ9ccCOK"
      }
    },
    {
      "cell_type": "code",
      "execution_count": 8,
      "metadata": {
        "colab": {
          "base_uri": "https://localhost:8080/"
        },
        "cellView": "form",
        "id": "sEgNB8H2VpJY",
        "outputId": "7b4aee05-5cb5-429a-f080-08849c1afda9"
      },
      "outputs": [
        {
          "output_type": "stream",
          "name": "stdout",
          "text": [
            "time_signature_list: ['1/4', '2/4', '3/4', '4/4', '5/4', '6/4', '7/4', '8/4', '9/4', '1/8', '2/8', '3/8', '4/8', '5/8', '6/8', '7/8', '8/8', '9/8', '10/8', '11/8', '12/8', '13/8', '14/8', '15/8', '1/16', '2/16', '3/16', '4/16', '5/16', '6/16', '7/16', '8/16', '9/16', '10/16', '11/16', '12/16', '13/16', '14/16', '15/16', '16/16', '17/16', '18/16', '19/16', '20/16', '21/16', '22/16', '23/16', '24/16', '25/16', '26/16', '27/16', '28/16', '29/16', '30/16', '31/16', '32/16']\n"
          ]
        }
      ],
      "source": [
        "#@title ii. Time Signature \n",
        "# This codeblock represents a time signature ( how many note types per measure / note type )\n",
        "time_signature_list = [str(i) + '/4' for i in range(1, 10)] + [str(i) + '/8' for i in range(1, 16)] \\\n",
        "                      + [str(i) + '/16' for i in range(1, 33)]\n",
        "print(\"time_signature_list:\", time_signature_list)  # VERIFY time_signature_list!"
      ]
    },
    {
      "cell_type": "markdown",
      "source": [
        "**NOTE**: The `time signature` fraction is also equivalent to a `bar length` mathematically, as shown below."
      ],
      "metadata": {
        "id": "P6k76z_ab3wL"
      }
    },
    {
      "cell_type": "code",
      "source": [
        "#@title iii. Bar Length\n",
        "# The `bar_length` represents the `time_signature` converted a decimal\n",
        "def bar_length(time_signature: str):\n",
        "    \"\"\" IN: time_signature, OUT: bar_length \"\"\"\n",
        "    ts_numerator, ts_denominator = time_signature.split('/')\n",
        "    return int(ts_numerator) / int(ts_denominator)\n",
        "\n",
        "bar_length_list = [bar_length(time_signature_list[i]) for\n",
        "                   i in range(len(time_signature_list))]\n",
        "print(\"bar_length_list:\", bar_length_list)"
      ],
      "metadata": {
        "colab": {
          "base_uri": "https://localhost:8080/"
        },
        "cellView": "form",
        "id": "76Y8tXI6YGIT",
        "outputId": "eb288b85-b4e9-4fad-9408-57629d36d005"
      },
      "execution_count": 9,
      "outputs": [
        {
          "output_type": "stream",
          "name": "stdout",
          "text": [
            "bar_length_list: [0.25, 0.5, 0.75, 1.0, 1.25, 1.5, 1.75, 2.0, 2.25, 0.125, 0.25, 0.375, 0.5, 0.625, 0.75, 0.875, 1.0, 1.125, 1.25, 1.375, 1.5, 1.625, 1.75, 1.875, 0.0625, 0.125, 0.1875, 0.25, 0.3125, 0.375, 0.4375, 0.5, 0.5625, 0.625, 0.6875, 0.75, 0.8125, 0.875, 0.9375, 1.0, 1.0625, 1.125, 1.1875, 1.25, 1.3125, 1.375, 1.4375, 1.5, 1.5625, 1.625, 1.6875, 1.75, 1.8125, 1.875, 1.9375, 2.0]\n"
          ]
        }
      ]
    },
    {
      "cell_type": "code",
      "source": [
        "#@title iv. Nearest Quarter Equivalent\n",
        "# How the APP determines how much space a partial 'group' takes \n",
        "def nearest_quarter_equivalent(bar_length: float):\n",
        "    \"\"\" IN: bar_length (float), OUT: Nearest Quarter Equivalent (int) \"\"\"\n",
        "    nqe = math.floor(bar_length)\n",
        "    return nqe\n",
        "\n",
        "\n",
        "NQE_list = [nearest_quarter_equivalent(bar_length_list[i]) for\n",
        "            i in range(len(bar_length_list))]\n",
        "print('NQE_list:', NQE_list)"
      ],
      "metadata": {
        "colab": {
          "base_uri": "https://localhost:8080/"
        },
        "cellView": "form",
        "id": "8KfvfDoBZSor",
        "outputId": "ab1e057f-74d1-4d94-d4bf-c7343e1c9201"
      },
      "execution_count": 10,
      "outputs": [
        {
          "output_type": "stream",
          "name": "stdout",
          "text": [
            "NQE_list: [0, 0, 0, 1, 1, 1, 1, 2, 2, 0, 0, 0, 0, 0, 0, 0, 1, 1, 1, 1, 1, 1, 1, 1, 0, 0, 0, 0, 0, 0, 0, 0, 0, 0, 0, 0, 0, 0, 0, 1, 1, 1, 1, 1, 1, 1, 1, 1, 1, 1, 1, 1, 1, 1, 1, 2]\n"
          ]
        }
      ]
    },
    {
      "cell_type": "markdown",
      "source": [
        "**NOTE:** As you can see, some of the `bar lengths` exceed the Nearest Quarter Equivalent. This would pose an issue to our algorithm depending on how we validate the types of `partials` to implement into our bar ( assuming a `quarter note` == 1.0 ). Let's next take a look at what kind of `bar lengths` our `partials` take up."
      ],
      "metadata": {
        "id": "OWL75Hz_a7Wg"
      }
    },
    {
      "cell_type": "code",
      "source": [
        "#@title va. 8th Note Partial Dictionary\n",
        "# The `partial` represents a partial (4/9 = 9let, 4/10 = 5let, 4/12 = 3let, etc.)\n",
        "# This constructs an '8th note partial dictionary'\n",
        "partial_keys = ['8th', '9th', '10th', '11th', '3rd', '13th', '7th']\n",
        "partial_list = [4 / i for i in range(8, 15)]\n",
        "partials_8th = {}\n",
        "for i in range(len(partial_list)):\n",
        "    partials_8th[partial_keys[i]] = partial_list[i]\n",
        "print(\"8th_partial_dict:\", partials_8th)  # VERIFY Partial Dict!"
      ],
      "metadata": {
        "colab": {
          "base_uri": "https://localhost:8080/"
        },
        "cellView": "form",
        "id": "1_6NnUfCaOuT",
        "outputId": "8d141862-5d5a-49d1-8637-428725511fcc"
      },
      "execution_count": 11,
      "outputs": [
        {
          "output_type": "stream",
          "name": "stdout",
          "text": [
            "8th_partial_dict: {'8th': 0.5, '9th': 0.4444444444444444, '10th': 0.4, '11th': 0.36363636363636365, '3rd': 0.3333333333333333, '13th': 0.3076923076923077, '7th': 0.2857142857142857}\n"
          ]
        }
      ]
    },
    {
      "cell_type": "markdown",
      "source": [
        "**NOTE:** The above `8th Partial Dict` represents each type of `partial` in `8th notes`:\n",
        "\n",
        "> 8th = (4/8), 9th = (4/9), 5th = (4 / 10), 11th = (4 / 11) etc. \n",
        "\n",
        "We can attain a `whole note` from an `8th partial` by multiplying by 8...\n",
        "\n",
        "> (4 / 8) * 8 = 4.0 (Whole Note Length)\n",
        "\n",
        "Likewise, can attain a `whole note 5th` from a `5th partial` by multiplying by 8...\n",
        "\n",
        "> (4 / 10) * 8 = 3.2 (5th Partial Whole Note Length)\n",
        "\n",
        "\n"
      ],
      "metadata": {
        "id": "jRm3cGMKcc74"
      }
    },
    {
      "cell_type": "code",
      "source": [
        "#@title vb. ENITRE Partial Dictionary - Whole -> 32nd\n",
        "# In order to construct the ENTIRE Partial Dict with subdivisions:\n",
        "subdivision_keys = ['1st(Whole)', '2nd(Half)', '4th(Quarter)', '8th',\n",
        "                    '16th', '32nd']  # After Quarter they are read as pronounced\n",
        "subdivision_list = [8, 4, 2, 1, .5, .25]  # Multipliers to achieve different subdivisions\n",
        "partials = {}\n",
        "for i in range(len(partial_keys)):\n",
        "    for j in range(len(subdivision_keys)):\n",
        "        partials[partial_keys[i] + '_' + subdivision_keys[j]] = \\\n",
        "            partial_list[i] * subdivision_list[j]\n",
        "print(\"FULL partial dict:\", partials)"
      ],
      "metadata": {
        "colab": {
          "base_uri": "https://localhost:8080/"
        },
        "cellView": "form",
        "id": "ejZLgfYXaaHC",
        "outputId": "bcd3c234-9416-4673-e361-5c8411813f31"
      },
      "execution_count": 12,
      "outputs": [
        {
          "output_type": "stream",
          "name": "stdout",
          "text": [
            "FULL partial dict: {'8th_1st(Whole)': 4.0, '8th_2nd(Half)': 2.0, '8th_4th(Quarter)': 1.0, '8th_8th': 0.5, '8th_16th': 0.25, '8th_32nd': 0.125, '9th_1st(Whole)': 3.5555555555555554, '9th_2nd(Half)': 1.7777777777777777, '9th_4th(Quarter)': 0.8888888888888888, '9th_8th': 0.4444444444444444, '9th_16th': 0.2222222222222222, '9th_32nd': 0.1111111111111111, '10th_1st(Whole)': 3.2, '10th_2nd(Half)': 1.6, '10th_4th(Quarter)': 0.8, '10th_8th': 0.4, '10th_16th': 0.2, '10th_32nd': 0.1, '11th_1st(Whole)': 2.909090909090909, '11th_2nd(Half)': 1.4545454545454546, '11th_4th(Quarter)': 0.7272727272727273, '11th_8th': 0.36363636363636365, '11th_16th': 0.18181818181818182, '11th_32nd': 0.09090909090909091, '3rd_1st(Whole)': 2.6666666666666665, '3rd_2nd(Half)': 1.3333333333333333, '3rd_4th(Quarter)': 0.6666666666666666, '3rd_8th': 0.3333333333333333, '3rd_16th': 0.16666666666666666, '3rd_32nd': 0.08333333333333333, '13th_1st(Whole)': 2.4615384615384617, '13th_2nd(Half)': 1.2307692307692308, '13th_4th(Quarter)': 0.6153846153846154, '13th_8th': 0.3076923076923077, '13th_16th': 0.15384615384615385, '13th_32nd': 0.07692307692307693, '7th_1st(Whole)': 2.2857142857142856, '7th_2nd(Half)': 1.1428571428571428, '7th_4th(Quarter)': 0.5714285714285714, '7th_8th': 0.2857142857142857, '7th_16th': 0.14285714285714285, '7th_32nd': 0.07142857142857142}\n"
          ]
        }
      ]
    },
    {
      "cell_type": "markdown",
      "source": [
        "NOTE: These are fractional values of partials. The 5th Partial Whole Note would only resolve to it's `Nearest Quarter Equivalent`:\n",
        "\n",
        "> (4 / 10) * 8 = 3.2 * 5 = 16.0 [ (4) `Whole Notes` or (4) `Bars` of `4/4`\n",
        "![algorithm_considerations_5let_1st(Whole).PNG](data:image/png;base64,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)\n",
        "\n"
      ],
      "metadata": {
        "id": "Gz9ZXoiBdrj3"
      }
    },
    {
      "cell_type": "markdown",
      "source": [
        "## 2). Setup - Pythonic Theory"
      ],
      "metadata": {
        "id": "vXzFYVgsgjah"
      }
    },
    {
      "cell_type": "code",
      "source": [
        "#@title Integer / Floor Tests\n",
        "\n",
        "# Integer to Floor test:\n",
        "int_test, flr_test = 1, math.floor(1.5)\n",
        "if int_test == flr_test:\n",
        "    print(\"Integer does equal floor!\", int_test, '=', flr_test)\n",
        "\n",
        "# Partial to Nearest Quarter Equivalent Test\n",
        "partial_test_11_8th, nqe_test = 4/11, 4\n",
        "if partial_test_11_8th * 11 == nqe_test:\n",
        "    print(\"(8) 11let 8th does equal a whole note!\")"
      ],
      "metadata": {
        "colab": {
          "base_uri": "https://localhost:8080/"
        },
        "cellView": "form",
        "id": "InqiDiOWgZD7",
        "outputId": "ea2ea34b-f6a8-468e-97af-21e0e786fc70"
      },
      "execution_count": 13,
      "outputs": [
        {
          "output_type": "stream",
          "name": "stdout",
          "text": [
            "Integer does equal floor! 1 = 1\n",
            "(8) 11let 8th does equal a whole note!\n"
          ]
        }
      ]
    },
    {
      "cell_type": "markdown",
      "source": [
        "**NOTE**: We want to make sure that the Pythonic Language can store and handle precise fractions so that there are no strange rounding circumstances that would leave in incomplete / incoherent `bar lengths`. Fortunately, the above test proved that Python can store and execute precise fractions within lists."
      ],
      "metadata": {
        "id": "cS2Y5HWKg2-m"
      }
    },
    {
      "cell_type": "markdown",
      "source": [
        "## 3a). Troubleshooting - USER / APP "
      ],
      "metadata": {
        "id": "frza76lihTO_"
      }
    },
    {
      "cell_type": "markdown",
      "source": [
        "###i. USER Parameter Input Issue\n",
        "\n",
        "> Let's consider the USER experience in the following example:\n",
        "\n"
      ],
      "metadata": {
        "id": "l_1xvcefhQEc"
      }
    },
    {
      "cell_type": "code",
      "source": [
        "# Example 1: USER selects the following:: [Weight[0-5], Breakability(Divisor / Reciprocal)]\n",
        "USER_selections = { 'time_signature' : '11/16', 'bar_length' : 11/16, \"8th_1st(Whole)\" : [1, 0], \"8th_2nd(Half)\" : [1, 0], \n",
        "                   \"8th_4th(Quarter)\" : [1, 0], \"8th_8th\" : [1, 0], \"8th_16th\" : [1, 2/16], \"8th_32nd\" : [0, 0] }\n",
        "print(USER_selections)"
      ],
      "metadata": {
        "colab": {
          "base_uri": "https://localhost:8080/"
        },
        "id": "1OZiMEPpianA",
        "outputId": "e58bec6c-bcc4-48ed-b275-41243dffd546"
      },
      "execution_count": 26,
      "outputs": [
        {
          "output_type": "stream",
          "name": "stdout",
          "text": [
            "{'time_signature': '11/16', 'bar_length': 0.6875, '8th_1st(Whole)': [1, 0], '8th_2nd(Half)': [1, 0], '8th_4th(Quarter)': [1, 0], '8th_8th': [1, 0], '8th_16th': [1, 0.125], '8th_32nd': [0, 0]}\n"
          ]
        }
      ]
    },
    {
      "cell_type": "markdown",
      "source": [
        "**Note**: We have NO WAY to fill up this time signature without:\n",
        "\n",
        "1. Forcing a different `subdivision`\n",
        "2. Forcing a different `breakability`\n",
        "3. Forcing the User to Select at LEAST the smallest partial in the `time_signature`\n",
        "\n",
        "Option #3 seems to be the best USER Experience; perhaps we can incorporate a 'flash message' when the most basic partial is NOT SELECTED.\n",
        "\n",
        "*   `1/8` requires `8th Notes`\n",
        "*   `5/4` requres `quarter notes`\n",
        "*   `6/4` requires `half notes`??\n",
        "\n",
        "This is TRICKY as time signatures are fractions of each other... `6/8` = `3/4` = `12/16`\n",
        "\n",
        "\n",
        "\n"
      ],
      "metadata": {
        "id": "sQe4wWeFi6Us"
      }
    },
    {
      "cell_type": "markdown",
      "source": [
        "###ii.) APP Randomize Issue\n",
        "\n",
        "> Let's consider how the ALGORITHM(APP) may approach RANDOMIZATION:\n",
        "\n"
      ],
      "metadata": {
        "id": "UfsvZHczkqRR"
      }
    },
    {
      "cell_type": "code",
      "source": [
        "# Example 1: APP selects the following:: [Weight[0-5], Breakability(Divisor / Reciprocal)]\n",
        "APP_selections =  { 'time_signature' : '13/16', 'bar_length' : 13/16, \"11th_1st(Whole)\" : [1, 0], \"11th_16th\" : [0, 0], \n",
        "                   \"8th_4th(Quarter)\" : [1, 0], \"8th_8th\" : [1, 0], \"8th_16th\" : [1, 2/16], \"8th_32nd\" : [0, 0] }\n",
        "print(APP_selections)"
      ],
      "metadata": {
        "colab": {
          "base_uri": "https://localhost:8080/"
        },
        "outputId": "1c517380-456a-4f1d-e769-3fbec777fcec",
        "id": "gz-XPT7il6XD"
      },
      "execution_count": 27,
      "outputs": [
        {
          "output_type": "stream",
          "name": "stdout",
          "text": [
            "{'time_signature': '13/16', 'bar_length': 0.8125, '11th_1st(Whole)': [1, 0], '11th_16th': [0, 0], '8th_4th(Quarter)': [1, 0], '8th_8th': [1, 0], '8th_16th': [1, 0.125], '8th_32nd': [0, 0]}\n"
          ]
        }
      ]
    },
    {
      "cell_type": "markdown",
      "source": [
        "**Note**: If the APP Randomly chooses the 11_1st Whole note; it may not be able to finish the bar unless without:\n",
        "\n",
        "1. Forcing a different `subdivision`\n",
        "2. Forcing a different `breakability`\n",
        "3. Enforcing a `nearest_quarter_equivalent` clause on ALL NOTES:\n",
        "\n",
        "\n",
        "\n",
        "\n"
      ],
      "metadata": {
        "id": "sljuxbLDmjXt"
      }
    },
    {
      "cell_type": "markdown",
      "source": [
        "##3b). Solution #1 - Easier Design\n",
        "\n",
        " The best algorithm whether or not a `partial` should be assigned to the `bar` should be the following:\n",
        "\n",
        "1.   Calculate the `Bar Length` AKA `Time Signature` Fractional Value...\n",
        "2.   Return ONLY the notes that fit the `Bar Length` within their `Nearest Quarter Equivalent`\n",
        "3.   `Random Assignment Takes Place`\n",
        "4.   `Shuffle` Notes based on `Breakability`\n",
        "5.   Return MIDI\n",
        "\n",
        "Example #1\n",
        "\n",
        "1.  `3/8` = 1.5\n",
        "2.  EXCLUDE: [`Whole Notes`(4.0), `Half Notes`(2.0), `3let_4th`(Quarters)(2.0)]\n",
        "3.  For example: `3let_8th`(1.0) can be used ONCE, assuming there is space left.\n",
        "4.  If the `breakability` of the 3let_8th is `1/3`, we can break it apart here!\n",
        "5.  Return MIDI\n",
        "\n",
        "**DRAWBACKS:** This algorithm isn't too hard to implement, however, you could actually fit (2) `3let_4th`(Quarters) in that space assuming the `breakability` was [1/3, 2/3] = 1.333333333333333. \n",
        "However, Solution #1 Algorithm wouldn't address this and would omit the `partial` all together.\n",
        "\n",
        "This is more true to the Pathos Algorithm and the Nearest Quarter Equivalent makes the calculations and option additions easy per time signature.  \n",
        "\n",
        "\n",
        "\n",
        "\n",
        "\n",
        "\n"
      ],
      "metadata": {
        "id": "zykNOZvym0cG"
      }
    },
    {
      "cell_type": "markdown",
      "source": [
        "##3c). Solution #2 - Complex Design\n",
        "\n",
        " The most intricate algorithm whether or not a `partial` should be assigned to the `bar` should be the following:\n",
        "\n",
        "1.   Calculate the `Bar Length` AKA `Time Signature` Fractional Value...\n",
        "2.   Return ONLY the notes that fit the `Bar Length` within their `Remaining Bar Length`\n",
        "3.   `Random Assignment Takes Place`\n",
        "4.   `Shuffle` Notes based on `Breakability`\n",
        "5.   Return MIDI\n",
        "\n",
        "Example #1\n",
        "\n",
        "1.  `3/8` = 1.5\n",
        "2.  EXCLUDE: [ONLY WHAT THE USER CHOOSES]\n",
        "3.  \n",
        "4.\n",
        "5.\n",
        "\n",
        "**DRAWBACKS:** This algorithm is a bit more complex; and I don't quite have it worked out. You would basically have to return `partials` and `breakability` in ANTICIPATION of the `time signature`. This would be a bit more difficult order of combining operations and partial assigments.\n",
        "\n",
        "FOR EXAMPLE:\n",
        "<br>`3/8` time signature = 1.5 bar length <br>\n",
        "`partial form` returns:\n",
        "- `3let_4th(Quarter)`:[1, 1/3] \n",
        "- `3let_8th`:[1, 1/3]\n",
        "- `3let_16th`:[1, 1/6] \n",
        "\n",
        "Each of these notes are forced by the smallest partial that works in the `Remaing Bar Length` (.333) / (1.5) <br>\n",
        "(4) `3let_8th` [1.33] + (1) `3let_16th` [.166] = (3/8) [1.5] <br>\n",
        "![algorithm_considerations_3-8_triplet.PNG](data:image/png;base64,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)\n",
        "\n",
        "\n",
        "\n",
        "\n",
        "\n",
        "\n",
        "\n",
        "\n",
        "\n"
      ],
      "metadata": {
        "id": "rrSi9bh9t-VO"
      }
    },
    {
      "cell_type": "markdown",
      "source": [
        "##4). Conclusion\n",
        "In the sake of time, I've chosen to use Solution #1 with the Nearest Quarter Equivalent as my APP's algorithm process. It is more true to the original algorithm I had in mind to begin writing the Pathos album."
      ],
      "metadata": {
        "id": "X4b1-oYex1SO"
      }
    }
  ]
}